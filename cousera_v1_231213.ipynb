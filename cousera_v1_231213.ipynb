{
 "cells": [
  {
   "cell_type": "code",
   "execution_count": 1,
   "metadata": {},
   "outputs": [],
   "source": [
    "import pandas as pd\n",
    "import matplotlib.pyplot as plt\n",
    "import seaborn as sns"
   ]
  },
  {
   "cell_type": "code",
   "execution_count": 2,
   "metadata": {},
   "outputs": [
    {
     "data": {
      "text/html": [
       "<div>\n",
       "<style scoped>\n",
       "    .dataframe tbody tr th:only-of-type {\n",
       "        vertical-align: middle;\n",
       "    }\n",
       "\n",
       "    .dataframe tbody tr th {\n",
       "        vertical-align: top;\n",
       "    }\n",
       "\n",
       "    .dataframe thead th {\n",
       "        text-align: right;\n",
       "    }\n",
       "</style>\n",
       "<table border=\"1\" class=\"dataframe\">\n",
       "  <thead>\n",
       "    <tr style=\"text-align: right;\">\n",
       "      <th></th>\n",
       "      <th>course_title</th>\n",
       "      <th>course_organization</th>\n",
       "      <th>course_certificate_type</th>\n",
       "      <th>course_time</th>\n",
       "      <th>course_rating</th>\n",
       "      <th>course_reviews_num</th>\n",
       "      <th>course_difficulty</th>\n",
       "      <th>course_url</th>\n",
       "      <th>course_students_enrolled</th>\n",
       "      <th>course_skills</th>\n",
       "      <th>course_summary</th>\n",
       "      <th>course_description</th>\n",
       "    </tr>\n",
       "  </thead>\n",
       "  <tbody>\n",
       "    <tr>\n",
       "      <th>0</th>\n",
       "      <td>(ISC)² Systems Security Certified Practitioner...</td>\n",
       "      <td>ISC2</td>\n",
       "      <td>Specialization</td>\n",
       "      <td>3 - 6 Months</td>\n",
       "      <td>4.7</td>\n",
       "      <td>492</td>\n",
       "      <td>Beginner</td>\n",
       "      <td>https://www.coursera.org/specializations/sscp-...</td>\n",
       "      <td>6,958</td>\n",
       "      <td>['Risk Management', 'Access Control', 'Asset',...</td>\n",
       "      <td>[]</td>\n",
       "      <td>Pursue better IT security job opportunities an...</td>\n",
       "    </tr>\n",
       "    <tr>\n",
       "      <th>1</th>\n",
       "      <td>.NET FullStack Developer</td>\n",
       "      <td>Board Infinity</td>\n",
       "      <td>Specialization</td>\n",
       "      <td>1 - 3 Months</td>\n",
       "      <td>4.3</td>\n",
       "      <td>51</td>\n",
       "      <td>Intermediate</td>\n",
       "      <td>https://www.coursera.org/specializations/dot-n...</td>\n",
       "      <td>2,531</td>\n",
       "      <td>['Web API', 'Web Development', 'Cascading Styl...</td>\n",
       "      <td>['Master .NET full stack web dev: from .NET co...</td>\n",
       "      <td>Develop the proficiency required to design and...</td>\n",
       "    </tr>\n",
       "    <tr>\n",
       "      <th>2</th>\n",
       "      <td>21st Century Energy Transition: how do we make...</td>\n",
       "      <td>University of Alberta</td>\n",
       "      <td>Course</td>\n",
       "      <td>1 - 3 Months</td>\n",
       "      <td>4.8</td>\n",
       "      <td>62</td>\n",
       "      <td>Beginner</td>\n",
       "      <td>https://www.coursera.org/learn/21st-century-en...</td>\n",
       "      <td>4,377</td>\n",
       "      <td>[]</td>\n",
       "      <td>['Understand the complexity of systems supplyi...</td>\n",
       "      <td>Affordable, abundant and reliable energy is fu...</td>\n",
       "    </tr>\n",
       "    <tr>\n",
       "      <th>3</th>\n",
       "      <td>A Crash Course in Causality:  Inferring Causal...</td>\n",
       "      <td>University of Pennsylvania</td>\n",
       "      <td>Course</td>\n",
       "      <td>1 - 3 Months</td>\n",
       "      <td>4.7</td>\n",
       "      <td>517</td>\n",
       "      <td>Intermediate</td>\n",
       "      <td>https://www.coursera.org/learn/crash-course-in...</td>\n",
       "      <td>39,004</td>\n",
       "      <td>['Instrumental Variable', 'Propensity Score Ma...</td>\n",
       "      <td>[]</td>\n",
       "      <td>We have all heard the phrase “correlation does...</td>\n",
       "    </tr>\n",
       "    <tr>\n",
       "      <th>4</th>\n",
       "      <td>A life with ADHD</td>\n",
       "      <td>University of Geneva</td>\n",
       "      <td>Course</td>\n",
       "      <td>1 - 3 Months</td>\n",
       "      <td>NaN</td>\n",
       "      <td>NaN</td>\n",
       "      <td>Beginner</td>\n",
       "      <td>https://www.coursera.org/learn/life-with-adhd</td>\n",
       "      <td>NaN</td>\n",
       "      <td>['differential diagnosis and comorbidities', '...</td>\n",
       "      <td>[' Understand what ADHD is and the challenges ...</td>\n",
       "      <td>What is ADHD and what are the challenges that ...</td>\n",
       "    </tr>\n",
       "    <tr>\n",
       "      <th>...</th>\n",
       "      <td>...</td>\n",
       "      <td>...</td>\n",
       "      <td>...</td>\n",
       "      <td>...</td>\n",
       "      <td>...</td>\n",
       "      <td>...</td>\n",
       "      <td>...</td>\n",
       "      <td>...</td>\n",
       "      <td>...</td>\n",
       "      <td>...</td>\n",
       "      <td>...</td>\n",
       "      <td>...</td>\n",
       "    </tr>\n",
       "    <tr>\n",
       "      <th>995</th>\n",
       "      <td>Étudier en France: French Intermediate course ...</td>\n",
       "      <td>École Polytechnique</td>\n",
       "      <td>Course</td>\n",
       "      <td>1 - 3 Months</td>\n",
       "      <td>4.8</td>\n",
       "      <td>4.6k</td>\n",
       "      <td>Intermediate</td>\n",
       "      <td>https://www.coursera.org/learn/etudier-en-france</td>\n",
       "      <td>519,333</td>\n",
       "      <td>[]</td>\n",
       "      <td>[]</td>\n",
       "      <td>Ce cours de français de niveau intermédiaire B...</td>\n",
       "    </tr>\n",
       "    <tr>\n",
       "      <th>996</th>\n",
       "      <td>Цифровий маркетинг і електронна комерція від G...</td>\n",
       "      <td>Google</td>\n",
       "      <td>Professional Certificate</td>\n",
       "      <td>3 - 6 Months</td>\n",
       "      <td>4.9</td>\n",
       "      <td>1.2k</td>\n",
       "      <td>Beginner</td>\n",
       "      <td>https://www.coursera.org/professional-certific...</td>\n",
       "      <td>7,630</td>\n",
       "      <td>['Медійна реклама', 'Маркетинг', 'Маркетинг ел...</td>\n",
       "      <td>['Ви вивчите основи цифрового маркетингу та ел...</td>\n",
       "      <td>За менш ніж шість місяців, без досвіду або спе...</td>\n",
       "    </tr>\n",
       "    <tr>\n",
       "      <th>997</th>\n",
       "      <td>تحليلات البيانات من Google</td>\n",
       "      <td>Google</td>\n",
       "      <td>Professional Certificate</td>\n",
       "      <td>3 - 6 Months</td>\n",
       "      <td>4.8</td>\n",
       "      <td>156</td>\n",
       "      <td>Beginner</td>\n",
       "      <td>https://www.coursera.org/professional-certific...</td>\n",
       "      <td>2,701</td>\n",
       "      <td>['مؤثرات عرض البيانات (DataViz)', 'R Markdown'...</td>\n",
       "      <td>['اكتساب فهم شامل للممارسات والعمليات التي يست...</td>\n",
       "      <td>استعد لمهنة جديدة في مجال تحليلات البيانات عال...</td>\n",
       "    </tr>\n",
       "    <tr>\n",
       "      <th>998</th>\n",
       "      <td>用 Python 做商管程式設計（一）(Programming for Business C...</td>\n",
       "      <td>National Taiwan University</td>\n",
       "      <td>Course</td>\n",
       "      <td>1 - 3 Months</td>\n",
       "      <td>4.9</td>\n",
       "      <td>814</td>\n",
       "      <td>Beginner</td>\n",
       "      <td>https://www.coursera.org/learn/pbc1</td>\n",
       "      <td>38,595</td>\n",
       "      <td>[]</td>\n",
       "      <td>[]</td>\n",
       "      <td>本系列課程從零開始，教授一般認為最適合初學者的程式語言「Python」，目標是讓大家在完成本...</td>\n",
       "    </tr>\n",
       "    <tr>\n",
       "      <th>999</th>\n",
       "      <td>用 Python 做商管程式設計（二）(Programming for Business C...</td>\n",
       "      <td>National Taiwan University</td>\n",
       "      <td>Course</td>\n",
       "      <td>1 - 4 Weeks</td>\n",
       "      <td>4.6</td>\n",
       "      <td>249</td>\n",
       "      <td>Intermediate</td>\n",
       "      <td>https://www.coursera.org/learn/pbc2</td>\n",
       "      <td>10,432</td>\n",
       "      <td>[]</td>\n",
       "      <td>[]</td>\n",
       "      <td>接續用 Python 做商管程式設計（一）的內容，我們將在這個課程中繼續探討Python語言...</td>\n",
       "    </tr>\n",
       "  </tbody>\n",
       "</table>\n",
       "<p>1000 rows × 12 columns</p>\n",
       "</div>"
      ],
      "text/plain": [
       "                                          course_title  \\\n",
       "0    (ISC)² Systems Security Certified Practitioner...   \n",
       "1                             .NET FullStack Developer   \n",
       "2    21st Century Energy Transition: how do we make...   \n",
       "3    A Crash Course in Causality:  Inferring Causal...   \n",
       "4                                     A life with ADHD   \n",
       "..                                                 ...   \n",
       "995  Étudier en France: French Intermediate course ...   \n",
       "996  Цифровий маркетинг і електронна комерція від G...   \n",
       "997                         تحليلات البيانات من Google   \n",
       "998  用 Python 做商管程式設計（一）(Programming for Business C...   \n",
       "999  用 Python 做商管程式設計（二）(Programming for Business C...   \n",
       "\n",
       "            course_organization   course_certificate_type   course_time  \\\n",
       "0                          ISC2            Specialization  3 - 6 Months   \n",
       "1                Board Infinity            Specialization  1 - 3 Months   \n",
       "2         University of Alberta                    Course  1 - 3 Months   \n",
       "3    University of Pennsylvania                    Course  1 - 3 Months   \n",
       "4          University of Geneva                    Course  1 - 3 Months   \n",
       "..                          ...                       ...           ...   \n",
       "995         École Polytechnique                    Course  1 - 3 Months   \n",
       "996                      Google  Professional Certificate  3 - 6 Months   \n",
       "997                      Google  Professional Certificate  3 - 6 Months   \n",
       "998  National Taiwan University                    Course  1 - 3 Months   \n",
       "999  National Taiwan University                    Course   1 - 4 Weeks   \n",
       "\n",
       "     course_rating course_reviews_num course_difficulty  \\\n",
       "0              4.7                492          Beginner   \n",
       "1              4.3                 51      Intermediate   \n",
       "2              4.8                 62          Beginner   \n",
       "3              4.7                517      Intermediate   \n",
       "4              NaN                NaN          Beginner   \n",
       "..             ...                ...               ...   \n",
       "995            4.8               4.6k      Intermediate   \n",
       "996            4.9               1.2k          Beginner   \n",
       "997            4.8                156          Beginner   \n",
       "998            4.9                814          Beginner   \n",
       "999            4.6                249      Intermediate   \n",
       "\n",
       "                                            course_url  \\\n",
       "0    https://www.coursera.org/specializations/sscp-...   \n",
       "1    https://www.coursera.org/specializations/dot-n...   \n",
       "2    https://www.coursera.org/learn/21st-century-en...   \n",
       "3    https://www.coursera.org/learn/crash-course-in...   \n",
       "4        https://www.coursera.org/learn/life-with-adhd   \n",
       "..                                                 ...   \n",
       "995   https://www.coursera.org/learn/etudier-en-france   \n",
       "996  https://www.coursera.org/professional-certific...   \n",
       "997  https://www.coursera.org/professional-certific...   \n",
       "998                https://www.coursera.org/learn/pbc1   \n",
       "999                https://www.coursera.org/learn/pbc2   \n",
       "\n",
       "    course_students_enrolled  \\\n",
       "0                      6,958   \n",
       "1                      2,531   \n",
       "2                      4,377   \n",
       "3                     39,004   \n",
       "4                        NaN   \n",
       "..                       ...   \n",
       "995                  519,333   \n",
       "996                    7,630   \n",
       "997                    2,701   \n",
       "998                   38,595   \n",
       "999                   10,432   \n",
       "\n",
       "                                         course_skills  \\\n",
       "0    ['Risk Management', 'Access Control', 'Asset',...   \n",
       "1    ['Web API', 'Web Development', 'Cascading Styl...   \n",
       "2                                                   []   \n",
       "3    ['Instrumental Variable', 'Propensity Score Ma...   \n",
       "4    ['differential diagnosis and comorbidities', '...   \n",
       "..                                                 ...   \n",
       "995                                                 []   \n",
       "996  ['Медійна реклама', 'Маркетинг', 'Маркетинг ел...   \n",
       "997  ['مؤثرات عرض البيانات (DataViz)', 'R Markdown'...   \n",
       "998                                                 []   \n",
       "999                                                 []   \n",
       "\n",
       "                                        course_summary  \\\n",
       "0                                                   []   \n",
       "1    ['Master .NET full stack web dev: from .NET co...   \n",
       "2    ['Understand the complexity of systems supplyi...   \n",
       "3                                                   []   \n",
       "4    [' Understand what ADHD is and the challenges ...   \n",
       "..                                                 ...   \n",
       "995                                                 []   \n",
       "996  ['Ви вивчите основи цифрового маркетингу та ел...   \n",
       "997  ['اكتساب فهم شامل للممارسات والعمليات التي يست...   \n",
       "998                                                 []   \n",
       "999                                                 []   \n",
       "\n",
       "                                    course_description  \n",
       "0    Pursue better IT security job opportunities an...  \n",
       "1    Develop the proficiency required to design and...  \n",
       "2    Affordable, abundant and reliable energy is fu...  \n",
       "3    We have all heard the phrase “correlation does...  \n",
       "4    What is ADHD and what are the challenges that ...  \n",
       "..                                                 ...  \n",
       "995  Ce cours de français de niveau intermédiaire B...  \n",
       "996  За менш ніж шість місяців, без досвіду або спе...  \n",
       "997  استعد لمهنة جديدة في مجال تحليلات البيانات عال...  \n",
       "998  本系列課程從零開始，教授一般認為最適合初學者的程式語言「Python」，目標是讓大家在完成本...  \n",
       "999  接續用 Python 做商管程式設計（一）的內容，我們將在這個課程中繼續探討Python語言...  \n",
       "\n",
       "[1000 rows x 12 columns]"
      ]
     },
     "execution_count": 2,
     "metadata": {},
     "output_type": "execute_result"
    }
   ],
   "source": [
    "coursera_data = pd.read_csv(\"coursera_courses.csv\")\n",
    "coursera_data"
   ]
  },
  {
   "cell_type": "code",
   "execution_count": 3,
   "metadata": {},
   "outputs": [
    {
     "name": "stdout",
     "output_type": "stream",
     "text": [
      "<class 'pandas.core.frame.DataFrame'>\n",
      "Int64Index: 958 entries, 0 to 999\n",
      "Data columns (total 12 columns):\n",
      " #   Column                    Non-Null Count  Dtype  \n",
      "---  ------                    --------------  -----  \n",
      " 0   course_title              958 non-null    object \n",
      " 1   course_organization       958 non-null    object \n",
      " 2   course_certificate_type   958 non-null    object \n",
      " 3   course_time               958 non-null    object \n",
      " 4   course_rating             958 non-null    float64\n",
      " 5   course_reviews_num        958 non-null    object \n",
      " 6   course_difficulty         958 non-null    object \n",
      " 7   course_url                958 non-null    object \n",
      " 8   course_students_enrolled  958 non-null    object \n",
      " 9   course_skills             958 non-null    object \n",
      " 10  course_summary            958 non-null    object \n",
      " 11  course_description        958 non-null    object \n",
      "dtypes: float64(1), object(11)\n",
      "memory usage: 97.3+ KB\n"
     ]
    }
   ],
   "source": [
    "new_data = coursera_data.dropna()\n",
    "new_data.info()"
   ]
  },
  {
   "cell_type": "code",
   "execution_count": 4,
   "metadata": {},
   "outputs": [
    {
     "name": "stdout",
     "output_type": "stream",
     "text": [
      "<class 'pandas.core.frame.DataFrame'>\n",
      "Int64Index: 958 entries, 0 to 999\n",
      "Data columns (total 12 columns):\n",
      " #   Column                    Non-Null Count  Dtype  \n",
      "---  ------                    --------------  -----  \n",
      " 0   course_title              958 non-null    object \n",
      " 1   course_organization       958 non-null    object \n",
      " 2   course_certificate_type   958 non-null    object \n",
      " 3   course_time               958 non-null    object \n",
      " 4   course_rating             958 non-null    float64\n",
      " 5   course_reviews_num        958 non-null    object \n",
      " 6   course_difficulty         958 non-null    object \n",
      " 7   course_url                958 non-null    object \n",
      " 8   course_students_enrolled  958 non-null    object \n",
      " 9   course_skills             958 non-null    object \n",
      " 10  course_summary            958 non-null    object \n",
      " 11  course_description        958 non-null    object \n",
      "dtypes: float64(1), object(11)\n",
      "memory usage: 97.3+ KB\n"
     ]
    }
   ],
   "source": [
    "new_data.drop_duplicates()\n",
    "new_data.info()"
   ]
  },
  {
   "cell_type": "code",
   "execution_count": 5,
   "metadata": {},
   "outputs": [
    {
     "name": "stdout",
     "output_type": "stream",
     "text": [
      "                 organization  # course\n",
      "0                      Google        96\n",
      "1                         IBM        78\n",
      "2  University of Pennsylvania        55\n",
      "3             DeepLearning.AI        43\n",
      "4                Google Cloud        35\n",
      "\n",
      "159\n"
     ]
    }
   ],
   "source": [
    "organization = coursera_data[\"course_organization\"].value_counts().reset_index()\n",
    "organization.rename(columns={'index':'organization', 'course_organization':'# course'}, inplace=True)\n",
    "print(organization.head())\n",
    "print()\n",
    "print(len(organization))"
   ]
  },
  {
   "cell_type": "code",
   "execution_count": 6,
   "metadata": {},
   "outputs": [
    {
     "name": "stdout",
     "output_type": "stream",
     "text": [
      "                                 organization  # course\n",
      "0                                      Google        96\n",
      "1                                         IBM        78\n",
      "2                  University of Pennsylvania        55\n",
      "3                             DeepLearning.AI        43\n",
      "4                                Google Cloud        35\n",
      "5                      University of Michigan        34\n",
      "6  University of Illinois at Urbana-Champaign        29\n",
      "7              University of Colorado Boulder        28\n",
      "8                    Johns Hopkins University        26\n",
      "9                             Duke University        25\n",
      "\n",
      "97\n"
     ]
    }
   ],
   "source": [
    "organizationSup1 = organization[organization[\"# course\"] > 1]\n",
    "print(organizationSup1.head(10))\n",
    "print()\n",
    "print(len(organizationSup1))"
   ]
  },
  {
   "cell_type": "code",
   "execution_count": 7,
   "metadata": {},
   "outputs": [
    {
     "name": "stdout",
     "output_type": "stream",
     "text": [
      "Proportion of organization with only one course: 38.99 %\n"
     ]
    }
   ],
   "source": [
    "# proportion of organization with only one course\n",
    "p1 = (159-97) / 159 * 100\n",
    "print(\"Proportion of organization with only one course:\", round(p1, 2), \"%\")"
   ]
  },
  {
   "cell_type": "code",
   "execution_count": 8,
   "metadata": {},
   "outputs": [
    {
     "name": "stdout",
     "output_type": "stream",
     "text": [
      "                                 organization  # course\n",
      "0                                      Google        96\n",
      "1                                         IBM        78\n",
      "2                  University of Pennsylvania        55\n",
      "3                             DeepLearning.AI        43\n",
      "4                                Google Cloud        35\n",
      "5                      University of Michigan        34\n",
      "6  University of Illinois at Urbana-Champaign        29\n",
      "7              University of Colorado Boulder        28\n",
      "8                    Johns Hopkins University        26\n",
      "9                             Duke University        25\n",
      "\n",
      "10\n"
     ]
    }
   ],
   "source": [
    "organizationTOP10 = organization[organization[\"# course\"] >= 25]\n",
    "print(organizationTOP10)\n",
    "print()\n",
    "print(len(organizationTOP10))"
   ]
  },
  {
   "cell_type": "code",
   "execution_count": 60,
   "metadata": {},
   "outputs": [
    {
     "data": {
      "text/plain": [
       "10.020876826722338"
      ]
     },
     "execution_count": 60,
     "metadata": {},
     "output_type": "execute_result"
    }
   ],
   "source": [
    "google_prop = 96/958*100\n",
    "google_prop"
   ]
  },
  {
   "cell_type": "code",
   "execution_count": 61,
   "metadata": {},
   "outputs": [
    {
     "data": {
      "text/plain": [
       "8.1419624217119"
      ]
     },
     "execution_count": 61,
     "metadata": {},
     "output_type": "execute_result"
    }
   ],
   "source": [
    "ibm_prop = 78/958*100\n",
    "ibm_prop"
   ]
  },
  {
   "cell_type": "code",
   "execution_count": 62,
   "metadata": {},
   "outputs": [
    {
     "data": {
      "text/plain": [
       "5.741127348643007"
      ]
     },
     "execution_count": 62,
     "metadata": {},
     "output_type": "execute_result"
    }
   ],
   "source": [
    "penn_prop = 55/958*100\n",
    "penn_prop"
   ]
  },
  {
   "cell_type": "code",
   "execution_count": 9,
   "metadata": {},
   "outputs": [
    {
     "data": {
      "image/png": "[encoded data removed]",
      "text/plain": [
       "<Figure size 432x288 with 1 Axes>"
      ]
     },
     "metadata": {
      "needs_background": "light"
     },
     "output_type": "display_data"
    }
   ],
   "source": [
    "#sns.barplot(data=organizationTOP10)\n",
    "ax = organizationTOP10.plot.bar()\n",
    "plt.xlabel(\"Organization\")\n",
    "plt.ylabel(\"# course\")\n",
    "#plt.title(\"Top 10 of course organization\")\n",
    "ax.set_xticks([0, 1, 2, 3, 4, 5, 6, 7, 8, 9]) # choose which x locations to have ticks\n",
    "ax.set_xticklabels([\"Google\", \"IBM\", \"University of Pennsylvania\", \"DeepLearning.AI\", \"Google Cloud\", \\\n",
    "            \"University of Michigan\", \"University of Illinois at Urbana-Champaign\", \"University of Colorado Boulder\", \\\n",
    "           \"Johns Hopkins University\", \"Duke University\"])\n",
    "plt.savefig('top10organization', bbox_inches='tight')\n",
    "plt.show()"
   ]
  },
  {
   "cell_type": "code",
   "execution_count": 10,
   "metadata": {},
   "outputs": [
    {
     "data": {
      "text/plain": [
       "Course                      488\n",
       "Specialization              397\n",
       "Professional Certificate    104\n",
       "Guided Project               11\n",
       "Name: course_certificate_type, dtype: int64"
      ]
     },
     "execution_count": 10,
     "metadata": {},
     "output_type": "execute_result"
    }
   ],
   "source": [
    "# type of certification proposed in coursera\n",
    "certificat_type = coursera_data[\"course_certificate_type\"].value_counts()\n",
    "certificat_type"
   ]
  },
  {
   "cell_type": "code",
   "execution_count": 37,
   "metadata": {},
   "outputs": [
    {
     "data": {
      "text/plain": [
       "50.939457202505224"
      ]
     },
     "execution_count": 37,
     "metadata": {},
     "output_type": "execute_result"
    }
   ],
   "source": [
    "course_prop = 488/958*100\n",
    "course_prop"
   ]
  },
  {
   "cell_type": "code",
   "execution_count": 38,
   "metadata": {},
   "outputs": [
    {
     "data": {
      "text/plain": [
       "41.44050104384134"
      ]
     },
     "execution_count": 38,
     "metadata": {},
     "output_type": "execute_result"
    }
   ],
   "source": [
    "spe_prop = 397/958*100\n",
    "spe_prop"
   ]
  },
  {
   "cell_type": "code",
   "execution_count": 11,
   "metadata": {},
   "outputs": [
    {
     "data": {
      "image/png": "[encoded data removed]",
      "text/plain": [
       "<Figure size 432x288 with 1 Axes>"
      ]
     },
     "metadata": {
      "needs_background": "light"
     },
     "output_type": "display_data"
    }
   ],
   "source": [
    "# visualization of the certificat type\n",
    "certificat_type.plot.bar()\n",
    "plt.xlabel(\"Type of certification\")\n",
    "plt.ylabel(\"# course per certification\")\n",
    "#plt.title(\"Number of course per certification type\")\n",
    "plt.xticks(rotation=45)\n",
    "plt.savefig('certificationType', bbox_inches='tight')\n",
    "plt.show()"
   ]
  },
  {
   "cell_type": "code",
   "execution_count": 12,
   "metadata": {},
   "outputs": [
    {
     "data": {
      "text/plain": [
       "3 - 6 Months         460\n",
       "1 - 3 Months         333\n",
       "1 - 4 Weeks          196\n",
       "Less Than 2 Hours     11\n",
       "Name: course_time, dtype: int64"
      ]
     },
     "execution_count": 12,
     "metadata": {},
     "output_type": "execute_result"
    }
   ],
   "source": [
    "# course time\n",
    "# type of certification proposed in coursera\n",
    "courseTime = coursera_data[\"course_time\"].value_counts()\n",
    "courseTime"
   ]
  },
  {
   "cell_type": "code",
   "execution_count": 39,
   "metadata": {},
   "outputs": [
    {
     "data": {
      "text/plain": [
       "48.01670146137787"
      ]
     },
     "execution_count": 39,
     "metadata": {},
     "output_type": "execute_result"
    }
   ],
   "source": [
    "three_prop = 460/958*100\n",
    "three_prop"
   ]
  },
  {
   "cell_type": "code",
   "execution_count": null,
   "metadata": {},
   "outputs": [],
   "source": []
  },
  {
   "cell_type": "code",
   "execution_count": 13,
   "metadata": {},
   "outputs": [
    {
     "data": {
      "image/png": "[encoded data removed]",
      "text/plain": [
       "<Figure size 432x288 with 1 Axes>"
      ]
     },
     "metadata": {
      "needs_background": "light"
     },
     "output_type": "display_data"
    }
   ],
   "source": [
    "# visualization of the certificat type\n",
    "courseTime.plot.bar()\n",
    "plt.xlabel(\"Course time\")\n",
    "plt.ylabel(\"# course\")\n",
    "#plt.title(\"Number of course per time\")\n",
    "plt.xticks(rotation=45)\n",
    "plt.savefig('time.png', bbox_inches='tight')\n",
    "plt.show()"
   ]
  },
  {
   "cell_type": "code",
   "execution_count": 14,
   "metadata": {},
   "outputs": [
    {
     "data": {
      "text/html": [
       "<div>\n",
       "<style scoped>\n",
       "    .dataframe tbody tr th:only-of-type {\n",
       "        vertical-align: middle;\n",
       "    }\n",
       "\n",
       "    .dataframe tbody tr th {\n",
       "        vertical-align: top;\n",
       "    }\n",
       "\n",
       "    .dataframe thead th {\n",
       "        text-align: right;\n",
       "    }\n",
       "</style>\n",
       "<table border=\"1\" class=\"dataframe\">\n",
       "  <thead>\n",
       "    <tr style=\"text-align: right;\">\n",
       "      <th></th>\n",
       "      <th>course_time</th>\n",
       "      <th>Nb_course</th>\n",
       "    </tr>\n",
       "  </thead>\n",
       "  <tbody>\n",
       "    <tr>\n",
       "      <th>0</th>\n",
       "      <td>3 - 6 Months</td>\n",
       "      <td>460</td>\n",
       "    </tr>\n",
       "    <tr>\n",
       "      <th>1</th>\n",
       "      <td>1 - 3 Months</td>\n",
       "      <td>333</td>\n",
       "    </tr>\n",
       "    <tr>\n",
       "      <th>2</th>\n",
       "      <td>1 - 4 Weeks</td>\n",
       "      <td>196</td>\n",
       "    </tr>\n",
       "    <tr>\n",
       "      <th>3</th>\n",
       "      <td>Less Than 2 Hours</td>\n",
       "      <td>11</td>\n",
       "    </tr>\n",
       "  </tbody>\n",
       "</table>\n",
       "</div>"
      ],
      "text/plain": [
       "         course_time  Nb_course\n",
       "0       3 - 6 Months        460\n",
       "1       1 - 3 Months        333\n",
       "2        1 - 4 Weeks        196\n",
       "3  Less Than 2 Hours         11"
      ]
     },
     "execution_count": 14,
     "metadata": {},
     "output_type": "execute_result"
    }
   ],
   "source": [
    "time = courseTime.to_frame().reset_index()\n",
    "time.rename(columns={\"index\":\"course_time\", \"course_time\":\"Nb_course\"}, inplace=True)\n",
    "time"
   ]
  },
  {
   "cell_type": "code",
   "execution_count": 56,
   "metadata": {},
   "outputs": [
    {
     "data": {
      "text/html": [
       "<div>\n",
       "<style scoped>\n",
       "    .dataframe tbody tr th:only-of-type {\n",
       "        vertical-align: middle;\n",
       "    }\n",
       "\n",
       "    .dataframe tbody tr th {\n",
       "        vertical-align: top;\n",
       "    }\n",
       "\n",
       "    .dataframe thead th {\n",
       "        text-align: right;\n",
       "    }\n",
       "</style>\n",
       "<table border=\"1\" class=\"dataframe\">\n",
       "  <thead>\n",
       "    <tr style=\"text-align: right;\">\n",
       "      <th></th>\n",
       "      <th>course_time</th>\n",
       "      <th>Nb_course</th>\n",
       "      <th>Proportion</th>\n",
       "    </tr>\n",
       "  </thead>\n",
       "  <tbody>\n",
       "    <tr>\n",
       "      <th>0</th>\n",
       "      <td>3 - 6 Months</td>\n",
       "      <td>460</td>\n",
       "      <td>48.016701</td>\n",
       "    </tr>\n",
       "    <tr>\n",
       "      <th>1</th>\n",
       "      <td>1 - 3 Months</td>\n",
       "      <td>333</td>\n",
       "      <td>34.759916</td>\n",
       "    </tr>\n",
       "    <tr>\n",
       "      <th>2</th>\n",
       "      <td>1 - 4 Weeks</td>\n",
       "      <td>196</td>\n",
       "      <td>20.459290</td>\n",
       "    </tr>\n",
       "    <tr>\n",
       "      <th>3</th>\n",
       "      <td>Less Than 2 Hours</td>\n",
       "      <td>11</td>\n",
       "      <td>1.148225</td>\n",
       "    </tr>\n",
       "  </tbody>\n",
       "</table>\n",
       "</div>"
      ],
      "text/plain": [
       "         course_time  Nb_course  Proportion\n",
       "0       3 - 6 Months        460   48.016701\n",
       "1       1 - 3 Months        333   34.759916\n",
       "2        1 - 4 Weeks        196   20.459290\n",
       "3  Less Than 2 Hours         11    1.148225"
      ]
     },
     "execution_count": 56,
     "metadata": {},
     "output_type": "execute_result"
    }
   ],
   "source": [
    "time[\"Proportion\"] = time[\"Nb_course\"]/958*100\n",
    "time"
   ]
  },
  {
   "cell_type": "code",
   "execution_count": 15,
   "metadata": {},
   "outputs": [
    {
     "name": "stderr",
     "output_type": "stream",
     "text": [
      "C:\\Users\\User\\AppData\\Local\\Temp\\ipykernel_5240\\2796818469.py:1: FutureWarning: The default value of numeric_only in DataFrame.corr is deprecated. In a future version, it will default to False. Select only valid columns or specify the value of numeric_only to silence this warning.\n",
      "  correlation_data = coursera_data.corr()\n"
     ]
    },
    {
     "data": {
      "text/plain": [
       "<Axes: >"
      ]
     },
     "execution_count": 15,
     "metadata": {},
     "output_type": "execute_result"
    },
    {
     "data": {
      "image/png": "[encoded data removed]",
      "text/plain": [
       "<Figure size 432x288 with 2 Axes>"
      ]
     },
     "metadata": {
      "needs_background": "light"
     },
     "output_type": "display_data"
    }
   ],
   "source": [
    "correlation_data = coursera_data.corr()\n",
    "sns.heatmap(data=correlation_data)"
   ]
  },
  {
   "cell_type": "code",
   "execution_count": 16,
   "metadata": {},
   "outputs": [
    {
     "data": {
      "text/plain": [
       "Beginner        685\n",
       "Intermediate    199\n",
       "Mixed            80\n",
       "Advanced         36\n",
       "Name: course_difficulty, dtype: int64"
      ]
     },
     "execution_count": 16,
     "metadata": {},
     "output_type": "execute_result"
    }
   ],
   "source": [
    "courseDifficulty = coursera_data[\"course_difficulty\"].value_counts()\n",
    "courseDifficulty"
   ]
  },
  {
   "cell_type": "code",
   "execution_count": 35,
   "metadata": {},
   "outputs": [
    {
     "data": {
      "text/plain": [
       "71.50313152400834"
      ]
     },
     "execution_count": 35,
     "metadata": {},
     "output_type": "execute_result"
    }
   ],
   "source": [
    "beg_prop = 685/958*100\n",
    "beg_prop"
   ]
  },
  {
   "cell_type": "code",
   "execution_count": 36,
   "metadata": {},
   "outputs": [
    {
     "data": {
      "text/plain": [
       "3.7578288100208765"
      ]
     },
     "execution_count": 36,
     "metadata": {},
     "output_type": "execute_result"
    }
   ],
   "source": [
    "adv_prop = 36/958*100\n",
    "adv_prop"
   ]
  },
  {
   "cell_type": "code",
   "execution_count": 17,
   "metadata": {},
   "outputs": [
    {
     "data": {
      "image/png": "[encoded data removed]",
      "text/plain": [
       "<Figure size 432x288 with 1 Axes>"
      ]
     },
     "metadata": {
      "needs_background": "light"
     },
     "output_type": "display_data"
    }
   ],
   "source": [
    "# visualization of the course per difficulty\n",
    "courseDifficulty.plot.bar()\n",
    "plt.xlabel(\"Course difficulty\")\n",
    "plt.ylabel(\"# course\")\n",
    "#plt.title(\"Number of course per difficulty\")\n",
    "plt.xticks(rotation=45)\n",
    "plt.savefig('courseDifficulty', bbox_inches='tight')\n",
    "plt.show()"
   ]
  },
  {
   "cell_type": "code",
   "execution_count": 59,
   "metadata": {},
   "outputs": [
    {
     "data": {
      "image/png": "[encoded data removed]",
      "text/plain": [
       "<Figure size 432x288 with 1 Axes>"
      ]
     },
     "metadata": {
      "needs_background": "light"
     },
     "output_type": "display_data"
    }
   ],
   "source": [
    "sns.scatterplot(data=coursera_data, x=\"course_difficulty\", y=\"course_time\", hue=\"course_certificate_type\")\n",
    "plt.legend(bbox_to_anchor=(1, 1))\n",
    "plt.savefig('courseraCourses', bbox_inches='tight')\n",
    "plt.show()"
   ]
  },
  {
   "cell_type": "code",
   "execution_count": 19,
   "metadata": {},
   "outputs": [
    {
     "name": "stdout",
     "output_type": "stream",
     "text": [
      "<class 'pandas.core.frame.DataFrame'>\n",
      "Int64Index: 958 entries, 0 to 999\n",
      "Data columns (total 12 columns):\n",
      " #   Column                    Non-Null Count  Dtype  \n",
      "---  ------                    --------------  -----  \n",
      " 0   course_title              958 non-null    object \n",
      " 1   course_organization       958 non-null    object \n",
      " 2   course_certificate_type   958 non-null    object \n",
      " 3   course_time               958 non-null    object \n",
      " 4   course_rating             958 non-null    float64\n",
      " 5   course_reviews_num        958 non-null    object \n",
      " 6   course_difficulty         958 non-null    object \n",
      " 7   course_url                958 non-null    object \n",
      " 8   course_students_enrolled  958 non-null    object \n",
      " 9   course_skills             958 non-null    object \n",
      " 10  course_summary            958 non-null    object \n",
      " 11  course_description        958 non-null    object \n",
      "dtypes: float64(1), object(11)\n",
      "memory usage: 97.3+ KB\n"
     ]
    }
   ],
   "source": [
    "new_data.info()"
   ]
  },
  {
   "cell_type": "code",
   "execution_count": 20,
   "metadata": {},
   "outputs": [
    {
     "name": "stderr",
     "output_type": "stream",
     "text": [
      "C:\\Users\\User\\AppData\\Local\\Temp\\ipykernel_5240\\275541663.py:2: SettingWithCopyWarning: \n",
      "A value is trying to be set on a copy of a slice from a DataFrame.\n",
      "Try using .loc[row_indexer,col_indexer] = value instead\n",
      "\n",
      "See the caveats in the documentation: https://pandas.pydata.org/pandas-docs/stable/user_guide/indexing.html#returning-a-view-versus-a-copy\n",
      "  new_data[\"course_students_enrolled\"] = new_data[\"course_students_enrolled\"].str.replace(\",\", \"\")\n"
     ]
    }
   ],
   "source": [
    "# convert course_students_enrolled to integer\n",
    "new_data[\"course_students_enrolled\"] = new_data[\"course_students_enrolled\"].str.replace(\",\", \"\")"
   ]
  },
  {
   "cell_type": "code",
   "execution_count": 21,
   "metadata": {},
   "outputs": [
    {
     "data": {
      "text/plain": [
       "56242     2\n",
       "3201      2\n",
       "40679     2\n",
       "54602     2\n",
       "6958      1\n",
       "         ..\n",
       "17743     1\n",
       "29088     1\n",
       "52576     1\n",
       "213625    1\n",
       "10432     1\n",
       "Name: course_students_enrolled, Length: 954, dtype: int64"
      ]
     },
     "execution_count": 21,
     "metadata": {},
     "output_type": "execute_result"
    }
   ],
   "source": [
    "courseStudent1 = new_data[\"course_students_enrolled\"].value_counts()\n",
    "courseStudent1"
   ]
  },
  {
   "cell_type": "code",
   "execution_count": 22,
   "metadata": {},
   "outputs": [
    {
     "name": "stdout",
     "output_type": "stream",
     "text": [
      "<class 'pandas.core.frame.DataFrame'>\n",
      "Int64Index: 958 entries, 0 to 999\n",
      "Data columns (total 12 columns):\n",
      " #   Column                    Non-Null Count  Dtype  \n",
      "---  ------                    --------------  -----  \n",
      " 0   course_title              958 non-null    object \n",
      " 1   course_organization       958 non-null    object \n",
      " 2   course_certificate_type   958 non-null    object \n",
      " 3   course_time               958 non-null    object \n",
      " 4   course_rating             958 non-null    float64\n",
      " 5   course_reviews_num        958 non-null    object \n",
      " 6   course_difficulty         958 non-null    object \n",
      " 7   course_url                958 non-null    object \n",
      " 8   course_students_enrolled  958 non-null    int32  \n",
      " 9   course_skills             958 non-null    object \n",
      " 10  course_summary            958 non-null    object \n",
      " 11  course_description        958 non-null    object \n",
      "dtypes: float64(1), int32(1), object(10)\n",
      "memory usage: 93.6+ KB\n"
     ]
    }
   ],
   "source": [
    "new_data = new_data.astype({\"course_students_enrolled\": int})\n",
    "new_data.info()"
   ]
  },
  {
   "cell_type": "code",
   "execution_count": 50,
   "metadata": {},
   "outputs": [
    {
     "data": {
      "text/plain": [
       "course_certificate_type\n",
       "Course                      86236814\n",
       "Specialization              36122321\n",
       "Professional Certificate    13622208\n",
       "Guided Project               1703347\n",
       "Name: course_students_enrolled, dtype: int32"
      ]
     },
     "execution_count": 50,
     "metadata": {},
     "output_type": "execute_result"
    }
   ],
   "source": [
    "typeVSstudent = new_data.groupby(\"course_certificate_type\")[\"course_students_enrolled\"].sum()\n",
    "typeVSstudent = typeVSstudent.sort_values(ascending=False)\n",
    "typeVSstudent"
   ]
  },
  {
   "cell_type": "code",
   "execution_count": 53,
   "metadata": {},
   "outputs": [
    {
     "data": {
      "text/plain": [
       "137684690"
      ]
     },
     "execution_count": 53,
     "metadata": {},
     "output_type": "execute_result"
    }
   ],
   "source": [
    "total = 86236814 + 36122321 + 13622208 + 1703347\n",
    "total"
   ]
  },
  {
   "cell_type": "code",
   "execution_count": 54,
   "metadata": {},
   "outputs": [
    {
     "data": {
      "text/plain": [
       "62.633553520002835"
      ]
     },
     "execution_count": 54,
     "metadata": {},
     "output_type": "execute_result"
    }
   ],
   "source": [
    "course_prop2 = 86236814/total*100\n",
    "course_prop2"
   ]
  },
  {
   "cell_type": "code",
   "execution_count": 55,
   "metadata": {},
   "outputs": [
    {
     "data": {
      "text/plain": [
       "26.23553933265928"
      ]
     },
     "execution_count": 55,
     "metadata": {},
     "output_type": "execute_result"
    }
   ],
   "source": [
    "spe2_prop = 36122321/total*100\n",
    "spe2_prop"
   ]
  },
  {
   "cell_type": "code",
   "execution_count": 52,
   "metadata": {},
   "outputs": [
    {
     "data": {
      "image/png": "[encoded data removed]",
      "text/plain": [
       "<Figure size 432x288 with 1 Axes>"
      ]
     },
     "metadata": {
      "needs_background": "light"
     },
     "output_type": "display_data"
    }
   ],
   "source": [
    "typeVSstudent.plot.bar()\n",
    "plt.xlabel(\"Course per type\")\n",
    "plt.ylabel(\"# student enrolled\")\n",
    "#plt.title(\"Number of student per certification type\")\n",
    "plt.savefig('students', bbox_inches='tight')\n",
    "plt.show()"
   ]
  },
  {
   "cell_type": "code",
   "execution_count": 25,
   "metadata": {},
   "outputs": [
    {
     "data": {
      "text/plain": [
       "course_difficulty\n",
       "Advanced         4203904\n",
       "Beginner        96094529\n",
       "Intermediate    20620468\n",
       "Mixed           16765789\n",
       "Name: course_students_enrolled, dtype: int32"
      ]
     },
     "execution_count": 25,
     "metadata": {},
     "output_type": "execute_result"
    }
   ],
   "source": [
    "difficultyVSstudent = new_data.groupby(\"course_difficulty\")[\"course_students_enrolled\"].sum()\n",
    "difficultyVSstudent"
   ]
  },
  {
   "cell_type": "code",
   "execution_count": 26,
   "metadata": {},
   "outputs": [
    {
     "data": {
      "image/png": "[encoded data removed]",
      "text/plain": [
       "<Figure size 432x288 with 1 Axes>"
      ]
     },
     "metadata": {
      "needs_background": "light"
     },
     "output_type": "display_data"
    }
   ],
   "source": [
    "difficultyVSstudent.plot.bar()\n",
    "plt.xlabel(\"Course difficulty\")\n",
    "plt.ylabel(\"# student enrolled\")\n",
    "#plt.title(\"Number of student per course difficulty\")\n",
    "\n",
    "plt.show()"
   ]
  },
  {
   "cell_type": "code",
   "execution_count": 27,
   "metadata": {},
   "outputs": [
    {
     "data": {
      "image/png": "[encoded data removed]",
      "text/plain": [
       "<Figure size 432x288 with 1 Axes>"
      ]
     },
     "metadata": {
      "needs_background": "light"
     },
     "output_type": "display_data"
    }
   ],
   "source": [
    "sns.scatterplot(data=new_data, x=\"course_rating\", y=\"course_students_enrolled\", hue=\"course_certificate_type\")\n",
    "plt.show()"
   ]
  },
  {
   "cell_type": "code",
   "execution_count": 28,
   "metadata": {},
   "outputs": [
    {
     "data": {
      "image/png": "[encoded data removed]",
      "text/plain": [
       "<Figure size 432x288 with 1 Axes>"
      ]
     },
     "metadata": {
      "needs_background": "light"
     },
     "output_type": "display_data"
    }
   ],
   "source": [
    "sns.scatterplot(data=new_data, x=\"course_rating\", y=\"course_students_enrolled\", hue=\"course_difficulty\")\n",
    "plt.show()"
   ]
  },
  {
   "cell_type": "code",
   "execution_count": 29,
   "metadata": {},
   "outputs": [
    {
     "data": {
      "image/png": "[encoded data removed]",
      "text/plain": [
       "<Figure size 432x288 with 1 Axes>"
      ]
     },
     "metadata": {
      "needs_background": "light"
     },
     "output_type": "display_data"
    }
   ],
   "source": [
    "sns.countplot(new_data[\"course_rating\"])\n",
    "plt.xlabel(\"Course rate\")\n",
    "#plt.title(\"Distribition of course rating\")\n",
    "plt.savefig('ratingDistribution', bbox_inches='tight')\n",
    "plt.show()"
   ]
  },
  {
   "cell_type": "code",
   "execution_count": 30,
   "metadata": {},
   "outputs": [
    {
     "data": {
      "text/plain": [
       "(951, 12)"
      ]
     },
     "execution_count": 30,
     "metadata": {},
     "output_type": "execute_result"
    }
   ],
   "source": [
    "rate = new_data[new_data[\"course_rating\"] >= 4]\n",
    "rate.shape"
   ]
  },
  {
   "cell_type": "code",
   "execution_count": 31,
   "metadata": {},
   "outputs": [
    {
     "data": {
      "text/plain": [
       "99.26931106471815"
      ]
     },
     "execution_count": 31,
     "metadata": {},
     "output_type": "execute_result"
    }
   ],
   "source": [
    "rate_prop = 951/958 * 100\n",
    "rate_prop"
   ]
  },
  {
   "cell_type": "code",
   "execution_count": 32,
   "metadata": {},
   "outputs": [],
   "source": [
    "skills = new_data[\"course_skills\"].value_counts()\n",
    "#skills"
   ]
  },
  {
   "cell_type": "code",
   "execution_count": 33,
   "metadata": {},
   "outputs": [],
   "source": [
    "summary = new_data[\"course_summary\"].value_counts()\n",
    "#summary"
   ]
  },
  {
   "cell_type": "code",
   "execution_count": 34,
   "metadata": {},
   "outputs": [],
   "source": [
    "description = new_data[\"course_description\"].value_counts()\n",
    "#description"
   ]
  },
  {
   "cell_type": "code",
   "execution_count": null,
   "metadata": {},
   "outputs": [],
   "source": []
  },
  {
   "cell_type": "code",
   "execution_count": null,
   "metadata": {},
   "outputs": [],
   "source": []
  }
 ],
 "metadata": {
  "kernelspec": {
   "display_name": "Python 3 (ipykernel)",
   "language": "python",
   "name": "python3"
  },
  "language_info": {
   "codemirror_mode": {
    "name": "ipython",
    "version": 3
   },
   "file_extension": ".py",
   "mimetype": "text/x-python",
   "name": "python",
   "nbconvert_exporter": "python",
   "pygments_lexer": "ipython3",
   "version": "3.10.9"
  }
 },
 "nbformat": 4,
 "nbformat_minor": 2
}
